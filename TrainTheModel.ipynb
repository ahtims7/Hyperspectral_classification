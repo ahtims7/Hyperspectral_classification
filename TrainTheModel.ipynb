{
 "cells": [
  {
   "cell_type": "code",
   "execution_count": 1,
   "metadata": {},
   "outputs": [
    {
     "name": "stderr",
     "output_type": "stream",
     "text": [
      "Using TensorFlow backend.\n"
     ]
    }
   ],
   "source": [
    "import keras\n",
    "import numpy as np\n",
    "import scipy\n",
    "import os\n",
    "from keras.models import Sequential\n",
    "from keras.layers import Dense, Dropout, Flatten\n",
    "from keras.layers import Conv2D, MaxPooling2D, Conv3D, AveragePooling2D, GlobalAveragePooling2D\n",
    "from keras.optimizers import SGD\n",
    "from keras import backend as K\n",
    "K.set_image_dim_ordering('th')\n",
    "from keras.utils import np_utils\n",
    "#from sklearn.cross_validation import StratifiedKFold"
   ]
  },
  {
   "cell_type": "code",
   "execution_count": 2,
   "metadata": {},
   "outputs": [
    {
     "name": "stdout",
     "output_type": "stream",
     "text": [
      "C:\\Users\\Smitha\\Downloads\\Classification-of-Hyperspectral-Image-master\n"
     ]
    }
   ],
   "source": [
    "PATH = os.getcwd()\n",
    "print (PATH)"
   ]
  },
  {
   "cell_type": "code",
   "execution_count": 3,
   "metadata": {},
   "outputs": [],
   "source": [
    "# Load the Global values (windowSize, numPCAcomponents, testRatio) from the text file global_variables.txt\n",
    "myFile = open('global_variables.txt', 'r') \n",
    "file = myFile.readlines()[:]\n",
    "\n",
    "\n",
    "for line in file:\n",
    "\n",
    "    if line[0:3] == \"win\":\n",
    "\n",
    "        ds = line.find('=')\n",
    "        windowSize = int(line[ds+1:-1],10)\n",
    "\n",
    "    elif line[0:3] == \"num\":\n",
    "\n",
    "        ds = line.find('=')\n",
    "        numPCAcomponents = int(line[ds+2:-1],10)\n",
    "\n",
    "    else:\n",
    "\n",
    "        ds = line.find('=')\n",
    "        testRatio = float(line[ds+1:])\n"
   ]
  },
  {
   "cell_type": "code",
   "execution_count": 28,
   "metadata": {},
   "outputs": [],
   "source": [
    "# Global Variables\n",
    "#windowSize = 5\n",
    "#numPCAcomponents = 30\n",
    "#testRatio = 0.25"
   ]
  },
  {
   "cell_type": "markdown",
   "metadata": {},
   "source": [
    "# Load Training Dataset"
   ]
  },
  {
   "cell_type": "code",
   "execution_count": 4,
   "metadata": {},
   "outputs": [],
   "source": [
    "X_train = np.load(\"X_trainPatches_\" + str(windowSize) + \"PCA\" + str(numPCAcomponents) + \"testRatio\" + str(testRatio)  + \".npy\")\n",
    "\n",
    "y_train = np.load(\"y_trainPatches_\" + str(windowSize) + \"PCA\" + str(numPCAcomponents) + \"testRatio\" + str(testRatio) + \".npy\")"
   ]
  },
  {
   "cell_type": "code",
   "execution_count": 5,
   "metadata": {},
   "outputs": [],
   "source": [
    "# Reshape into (numberofsamples, channels, height, width)\n",
    "X_train = np.reshape(X_train, (X_train.shape[0],X_train.shape[3], X_train.shape[1], X_train.shape[2]))"
   ]
  },
  {
   "cell_type": "code",
   "execution_count": 6,
   "metadata": {},
   "outputs": [],
   "source": [
    "# convert class labels to on-hot encoding\n",
    "y_train = np_utils.to_categorical(y_train)"
   ]
  },
  {
   "cell_type": "code",
   "execution_count": 7,
   "metadata": {},
   "outputs": [
    {
     "name": "stdout",
     "output_type": "stream",
     "text": [
      "(30, 5, 5)\n"
     ]
    }
   ],
   "source": [
    "# Define the input shape \n",
    "input_shape= X_train[0].shape\n",
    "print(input_shape)"
   ]
  },
  {
   "cell_type": "code",
   "execution_count": 8,
   "metadata": {},
   "outputs": [
    {
     "name": "stdout",
     "output_type": "stream",
     "text": [
      "90\n"
     ]
    }
   ],
   "source": [
    "# number of filters\n",
    "C1 = 3*numPCAcomponents\n",
    "print(C1)"
   ]
  },
  {
   "cell_type": "code",
   "execution_count": 9,
   "metadata": {},
   "outputs": [
    {
     "name": "stdout",
     "output_type": "stream",
     "text": [
      "WARNING:tensorflow:From C:\\Users\\Smitha\\Anaconda3\\lib\\site-packages\\keras\\backend\\tensorflow_backend.py:64: The name tf.get_default_graph is deprecated. Please use tf.compat.v1.get_default_graph instead.\n",
      "\n",
      "WARNING:tensorflow:From C:\\Users\\Smitha\\Anaconda3\\lib\\site-packages\\keras\\backend\\tensorflow_backend.py:497: The name tf.placeholder is deprecated. Please use tf.compat.v1.placeholder instead.\n",
      "\n"
     ]
    }
   ],
   "source": [
    "from keras.layers import Input\n",
    "input_img = Input(shape = (30, 5, 5))"
   ]
  },
  {
   "cell_type": "code",
   "execution_count": 10,
   "metadata": {},
   "outputs": [
    {
     "name": "stdout",
     "output_type": "stream",
     "text": [
      "WARNING:tensorflow:From C:\\Users\\Smitha\\Anaconda3\\lib\\site-packages\\keras\\backend\\tensorflow_backend.py:3636: The name tf.random_uniform is deprecated. Please use tf.random.uniform instead.\n",
      "\n",
      "WARNING:tensorflow:From C:\\Users\\Smitha\\Anaconda3\\lib\\site-packages\\keras\\backend\\tensorflow_backend.py:159: The name tf.get_default_session is deprecated. Please use tf.compat.v1.get_default_session instead.\n",
      "\n",
      "WARNING:tensorflow:From C:\\Users\\Smitha\\Anaconda3\\lib\\site-packages\\keras\\backend\\tensorflow_backend.py:164: The name tf.ConfigProto is deprecated. Please use tf.compat.v1.ConfigProto instead.\n",
      "\n",
      "WARNING:tensorflow:From C:\\Users\\Smitha\\Anaconda3\\lib\\site-packages\\keras\\backend\\tensorflow_backend.py:169: The name tf.Session is deprecated. Please use tf.compat.v1.Session instead.\n",
      "\n",
      "WARNING:tensorflow:From C:\\Users\\Smitha\\Anaconda3\\lib\\site-packages\\keras\\backend\\tensorflow_backend.py:173: The name tf.global_variables is deprecated. Please use tf.compat.v1.global_variables instead.\n",
      "\n",
      "WARNING:tensorflow:From C:\\Users\\Smitha\\Anaconda3\\lib\\site-packages\\keras\\backend\\tensorflow_backend.py:182: The name tf.is_variable_initialized is deprecated. Please use tf.compat.v1.is_variable_initialized instead.\n",
      "\n",
      "WARNING:tensorflow:From C:\\Users\\Smitha\\Anaconda3\\lib\\site-packages\\keras\\backend\\tensorflow_backend.py:189: The name tf.variables_initializer is deprecated. Please use tf.compat.v1.variables_initializer instead.\n",
      "\n",
      "WARNING:tensorflow:From C:\\Users\\Smitha\\Anaconda3\\lib\\site-packages\\keras\\backend\\tensorflow_backend.py:3464: The name tf.nn.max_pool is deprecated. Please use tf.nn.max_pool2d instead.\n",
      "\n",
      "WARNING:tensorflow:From C:\\Users\\Smitha\\Anaconda3\\lib\\site-packages\\keras\\backend\\tensorflow_backend.py:1264: calling reduce_prod_v1 (from tensorflow.python.ops.math_ops) with keep_dims is deprecated and will be removed in a future version.\n",
      "Instructions for updating:\n",
      "keep_dims is deprecated, use keepdims instead\n"
     ]
    }
   ],
   "source": [
    "x1=(Conv2D(C1, (1,1), padding='same', activation='relu'))(input_img)\n",
    "x1 = (Conv2D(C1, (3,3), padding='same', activation='relu'))(x1)\n",
    "x2 = Conv2D(C1, (1,1), padding='same', activation='relu')(input_img)\n",
    "x2 = Conv2D(C1, (5,5), padding='same', activation='relu')(x2)\n",
    "x3 = MaxPooling2D((3,3), strides=(1,1), padding='same')(input_img)\n",
    "x3 = Conv2D(C1, (1,1), padding='same', activation='relu')(x3)\n",
    "output = keras.layers.concatenate([x1, x2, x3], axis = 3)\n",
    "output = Flatten()(output)\n",
    "out    = Dense(16, activation='softmax')(output)"
   ]
  },
  {
   "cell_type": "code",
   "execution_count": 12,
   "metadata": {},
   "outputs": [
    {
     "name": "stdout",
     "output_type": "stream",
     "text": [
      "__________________________________________________________________________________________________\n",
      "Layer (type)                    Output Shape         Param #     Connected to                     \n",
      "==================================================================================================\n",
      "input_1 (InputLayer)            (None, 30, 5, 5)     0                                            \n",
      "__________________________________________________________________________________________________\n",
      "conv2d_1 (Conv2D)               (None, 90, 5, 5)     2790        input_1[0][0]                    \n",
      "__________________________________________________________________________________________________\n",
      "conv2d_3 (Conv2D)               (None, 90, 5, 5)     2790        input_1[0][0]                    \n",
      "__________________________________________________________________________________________________\n",
      "max_pooling2d_1 (MaxPooling2D)  (None, 30, 5, 5)     0           input_1[0][0]                    \n",
      "__________________________________________________________________________________________________\n",
      "conv2d_2 (Conv2D)               (None, 90, 5, 5)     72990       conv2d_1[0][0]                   \n",
      "__________________________________________________________________________________________________\n",
      "conv2d_4 (Conv2D)               (None, 90, 5, 5)     202590      conv2d_3[0][0]                   \n",
      "__________________________________________________________________________________________________\n",
      "conv2d_5 (Conv2D)               (None, 90, 5, 5)     2790        max_pooling2d_1[0][0]            \n",
      "__________________________________________________________________________________________________\n",
      "concatenate_1 (Concatenate)     (None, 90, 5, 15)    0           conv2d_2[0][0]                   \n",
      "                                                                 conv2d_4[0][0]                   \n",
      "                                                                 conv2d_5[0][0]                   \n",
      "__________________________________________________________________________________________________\n",
      "flatten_1 (Flatten)             (None, 6750)         0           concatenate_1[0][0]              \n",
      "__________________________________________________________________________________________________\n",
      "dense_1 (Dense)                 (None, 16)           108016      flatten_1[0][0]                  \n",
      "==================================================================================================\n",
      "Total params: 391,966\n",
      "Trainable params: 391,966\n",
      "Non-trainable params: 0\n",
      "__________________________________________________________________________________________________\n",
      "None\n"
     ]
    }
   ],
   "source": [
    "from keras.models import Model\n",
    "model = Model(inputs = input_img, outputs = out)\n",
    "print(model.summary())"
   ]
  },
  {
   "cell_type": "code",
   "execution_count": 14,
   "metadata": {},
   "outputs": [
    {
     "name": "stdout",
     "output_type": "stream",
     "text": [
      "Epoch 1/15\n",
      "29685/29685 [==============================] - 53s 2ms/step - loss: 0.1419 - acc: 0.9593\n",
      "Epoch 2/15\n",
      "29685/29685 [==============================] - 53s 2ms/step - loss: 0.0043 - acc: 0.9993\n",
      "Epoch 3/15\n",
      "29685/29685 [==============================] - 53s 2ms/step - loss: 0.0018 - acc: 1.0000\n",
      "Epoch 4/15\n",
      "29685/29685 [==============================] - 52s 2ms/step - loss: 0.0013 - acc: 1.0000\n",
      "Epoch 5/15\n",
      "29685/29685 [==============================] - 53s 2ms/step - loss: 0.0011 - acc: 1.0000\n",
      "Epoch 6/15\n",
      "29685/29685 [==============================] - 53s 2ms/step - loss: 0.0010 - acc: 1.0000\n",
      "Epoch 7/15\n",
      "29685/29685 [==============================] - 52s 2ms/step - loss: 9.5215e-04 - acc: 1.0000\n",
      "Epoch 8/15\n",
      "29685/29685 [==============================] - 53s 2ms/step - loss: 8.9693e-04 - acc: 1.0000\n",
      "Epoch 9/15\n",
      "29685/29685 [==============================] - 53s 2ms/step - loss: 8.5207e-04 - acc: 1.0000\n",
      "Epoch 10/15\n",
      "29685/29685 [==============================] - 53s 2ms/step - loss: 8.1664e-04 - acc: 1.0000\n",
      "Epoch 11/15\n",
      "29685/29685 [==============================] - 53s 2ms/step - loss: 7.8665e-04 - acc: 1.0000\n",
      "Epoch 12/15\n",
      "29685/29685 [==============================] - 52s 2ms/step - loss: 7.6168e-04 - acc: 1.0000:  - ETA: 1s - loss\n",
      "Epoch 13/15\n",
      "29685/29685 [==============================] - 53s 2ms/step - loss: 7.3987e-04 - acc: 1.0000\n",
      "Epoch 14/15\n",
      "29685/29685 [==============================] - 53s 2ms/step - loss: 7.2059e-04 - acc: 1.0000\n",
      "Epoch 15/15\n",
      "29685/29685 [==============================] - 53s 2ms/step - loss: 7.0416e-04 - acc: 1.0000\n"
     ]
    },
    {
     "data": {
      "text/plain": [
       "<keras.callbacks.History at 0x1d2c1b38848>"
      ]
     },
     "execution_count": 14,
     "metadata": {},
     "output_type": "execute_result"
    }
   ],
   "source": [
    "from keras.optimizers import SGD\n",
    "epochs = 15\n",
    "lrate = 0.1\n",
    "decay = lrate/epochs\n",
    "sgd = SGD(lr=lrate, momentum=0.9, decay=decay, nesterov=False)\n",
    "model.compile(loss='categorical_crossentropy', optimizer=sgd, metrics=['accuracy'])\n",
    "model.fit(X_train, y_train, epochs=epochs, batch_size=32)"
   ]
  },
  {
   "cell_type": "code",
   "execution_count": 15,
   "metadata": {},
   "outputs": [],
   "source": [
    "import h5py\n",
    "from keras.models import load_model"
   ]
  },
  {
   "cell_type": "code",
   "execution_count": 16,
   "metadata": {},
   "outputs": [],
   "source": [
    "model.save('my_model' + str(windowSize) + 'PCA' + str(numPCAcomponents) + \"testRatio\" + str(testRatio) + '.h5')"
   ]
  }
 ],
 "metadata": {
  "kernelspec": {
   "display_name": "Python 3",
   "language": "python",
   "name": "python3"
  },
  "language_info": {
   "codemirror_mode": {
    "name": "ipython",
    "version": 3
   },
   "file_extension": ".py",
   "mimetype": "text/x-python",
   "name": "python",
   "nbconvert_exporter": "python",
   "pygments_lexer": "ipython3",
   "version": "3.7.4"
  }
 },
 "nbformat": 4,
 "nbformat_minor": 2
}
